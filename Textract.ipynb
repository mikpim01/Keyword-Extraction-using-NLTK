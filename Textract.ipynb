{
 "cells": [
  {
   "cell_type": "code",
   "execution_count": 36,
   "metadata": {
    "collapsed": true
   },
   "outputs": [],
   "source": [
    "import PyPDF2\n",
    "import pandas as pd"
   ]
  },
  {
   "cell_type": "code",
   "execution_count": 3,
   "metadata": {
    "collapsed": true
   },
   "outputs": [],
   "source": [
    "import textract"
   ]
  },
  {
   "cell_type": "code",
   "execution_count": 4,
   "metadata": {
    "collapsed": true
   },
   "outputs": [],
   "source": [
    "from nltk.tokenize import word_tokenize\n",
    "from nltk.corpus import stopwords"
   ]
  },
  {
   "cell_type": "code",
   "execution_count": 5,
   "metadata": {
    "collapsed": true
   },
   "outputs": [],
   "source": [
    "import nltk"
   ]
  },
  {
   "cell_type": "code",
   "execution_count": 16,
   "metadata": {},
   "outputs": [
    {
     "name": "stdout",
     "output_type": "stream",
     "text": [
      "[nltk_data] Downloading package stopwords to\n",
      "[nltk_data]     C:\\Users\\backup\\AppData\\Roaming\\nltk_data...\n",
      "[nltk_data]   Unzipping corpora\\stopwords.zip.\n"
     ]
    },
    {
     "data": {
      "text/plain": [
       "True"
      ]
     },
     "execution_count": 16,
     "metadata": {},
     "output_type": "execute_result"
    }
   ],
   "source": [
    "nltk.download('stopwords')"
   ]
  },
  {
   "cell_type": "code",
   "execution_count": 6,
   "metadata": {
    "collapsed": true
   },
   "outputs": [],
   "source": [
    "pdffileobj=open('C://Users/backup/Desktop/ds/Textract/JavaBasics-notes.pdf','rb')"
   ]
  },
  {
   "cell_type": "code",
   "execution_count": 7,
   "metadata": {
    "collapsed": true
   },
   "outputs": [],
   "source": [
    "pdfreader=PyPDF2.PdfFileReader(pdffileobj)"
   ]
  },
  {
   "cell_type": "code",
   "execution_count": 8,
   "metadata": {
    "collapsed": true
   },
   "outputs": [],
   "source": [
    "num_pages=pdfreader.numPages"
   ]
  },
  {
   "cell_type": "code",
   "execution_count": 9,
   "metadata": {
    "collapsed": true
   },
   "outputs": [],
   "source": [
    "count = 0"
   ]
  },
  {
   "cell_type": "code",
   "execution_count": 10,
   "metadata": {
    "collapsed": true
   },
   "outputs": [],
   "source": [
    "text= \"\""
   ]
  },
  {
   "cell_type": "code",
   "execution_count": 11,
   "metadata": {
    "collapsed": true
   },
   "outputs": [],
   "source": [
    "while count < num_pages:\n",
    "    pageObj = pdfreader.getPage(count)\n",
    "    count +=1\n",
    "    text += pageObj.extractText()"
   ]
  },
  {
   "cell_type": "code",
   "execution_count": 12,
   "metadata": {
    "collapsed": true
   },
   "outputs": [],
   "source": [
    "if text != \"\":\n",
    "   text = text\n",
    "else:\n",
    "   text = textract.process(fileurl, method='tesseract', language='eng')"
   ]
  },
  {
   "cell_type": "code",
   "execution_count": 13,
   "metadata": {},
   "outputs": [],
   "source": [
    "tokens=word_tokenize(text)"
   ]
  },
  {
   "cell_type": "code",
   "execution_count": 32,
   "metadata": {
    "collapsed": true
   },
   "outputs": [],
   "source": [
    "punctuations = ['(',')',';',':','[',']',',','!','=','==','<','>','@','#','$','%','^','&','*','.','//','{','}','...','``','+',\"''\",]"
   ]
  },
  {
   "cell_type": "code",
   "execution_count": 26,
   "metadata": {},
   "outputs": [],
   "source": [
    "stop_words = stopwords.words('english')"
   ]
  },
  {
   "cell_type": "code",
   "execution_count": 33,
   "metadata": {},
   "outputs": [],
   "source": [
    "keywords = [word for word in tokens if not word in stop_words and not word in punctuations]"
   ]
  },
  {
   "cell_type": "code",
   "execution_count": 34,
   "metadata": {},
   "outputs": [
    {
     "name": "stdout",
     "output_type": "stream",
     "text": [
      "['Java', 'Basics©', '1996-2003', 'jGuru.com', 'All', 'Rights', 'Reserved.Java', 'Basics', '-1Java', 'BasicsTopics', 'section', 'include', 'What', 'makes', 'Java', 'programs', 'portable', 'secure', 'robust', 'The', 'structure', 'Java', 'applets', 'applications', 'How', 'Java', 'applications', 'executed', 'How', 'applets', 'invoked', 'executed', 'The', 'Java', 'Language', 'Part', 'I', 'Comments', 'Declarations', 'Expressions', 'Statements', 'Garbage', 'collection', 'Java', 'SemanticsPortabilityJava', 'programs', 'portable', 'across', 'operating', 'systems', 'hardware', 'environments.Portability', 'advantage', 'You', 'need', 'one', 'version', 'software', 'serve', 'broad', 'market.', 'The', 'Internet', 'effect', 'becomes', 'one', 'giant', 'dynamic', 'library.', 'You', 'longer', 'limited', 'particular', 'computer', 'platform.Three', 'features', 'make', 'Java', 'String', 'programs', 'portable:1', 'The', 'language', 'The', 'Java', 'language', 'completely', 'specified', 'data-type', 'sizes', 'andformats', 'defined', 'part', 'language', 'By', 'contrast', 'C/C++', 'leaves', 'details', 'compiler', 'implementor', 'many', 'C/C++', 'programs', 'thereforeJava', 'BasicsJava', 'Basics', '-2©', '1996-2003', 'jGuru.com', 'All', 'Rights', 'Reserved.are', 'portable.2', 'The', 'library', 'The', 'Java', 'class', 'library', 'available', 'machine', 'Javaruntime', 'system', 'portable', 'program', 'use', 'use', 'thesame', 'class', 'library', 'every', 'platform', 'Window-manager', 'function', 'calls', 'Macapplication', 'written', 'C/C++', 'example', 'port', 'well', 'PC.3', 'The', 'byte', 'code', 'The', 'Java', 'runtime', 'system', 'compile', 'source', 'codedirectly', 'machine', 'language', 'inflexible', 'nonportable', 'representation', 'ofyour', 'program', 'Instead', 'Java', 'programs', 'translated', 'machine-independentbyte', 'code', 'The', 'byte', 'code', 'easily', 'interpreted', 'therefore', 'executed', 'onany', 'platform', 'Java', 'runtime', 'system', 'The', 'latest', 'versions', 'NetscapeNavigator', 'browser', 'example', 'run', 'applets', 'virtually', 'platform', '.SecurityThe', 'Java', 'language', 'secure', 'difficult', 'write', 'incorrect', 'code', 'orviruses', 'corrupt/steal', 'data', 'harm', 'hardware', 'hard', 'disks.There', 'two', 'main', 'lines', 'defense', 'Interpreter', 'level', 'No', 'pointer', 'arithmetic', 'Garbage', 'collection', 'Array', 'bounds', 'checking', 'No', 'illegal', 'data', 'conversions', 'Browser', 'level', 'applies', 'applets', 'No', 'local', 'file', 'I/O', 'Sockets', 'back', 'host', 'No', 'calls', 'native', 'methodsRobustnessThe', 'Java', 'language', 'robust', 'It', 'several', 'features', 'designed', 'avoid', 'crashesduring', 'program', 'execution', 'including', 'No', 'pointer', 'arithmeticJava', 'Basics©', '1996-2003', 'jGuru.com', 'All', 'Rights', 'Reserved.Java', 'Basics', '-3', 'Garbage', 'collection', '--', 'bad', 'addresses', 'Array', 'string', 'bounds', 'checking', 'No', 'jumping', 'bad', 'method', 'addresses', 'Interfaces', 'exceptionsJava', 'Program', 'StructureA', 'file', 'containing', 'Java', 'source', 'code', 'considered', 'compilation', 'unit', 'Such', 'acompilation', 'unit', 'contains', 'set', 'classes', 'optionally', 'package', 'definition', 'togroup', 'related', 'classes', 'together', 'Classes', 'contain', 'data', 'method', 'members', 'thatspecify', 'state', 'behavior', 'objects', 'program.Java', 'programs', 'come', 'two', 'flavors', 'Standalone', 'applications', 'initial', 'context', 'pre-existing', 'mainwindow', 'Applets', 'WWW', 'programmingThe', 'major', 'differences', 'applications', 'applets', 'Applets', 'allowed', 'use', 'file', 'I/O', 'sockets', 'hostplatform', 'Applications', 'restrictions.', 'An', 'applet', 'must', 'subclass', 'Java', 'Applet', 'class', 'Aplications', 'need', 'tosubclass', 'particular', 'class.', 'Unlike', 'applets', 'applications', 'menus.', 'Unlike', 'applications', 'applets', 'need', 'respond', 'predefined', 'lifecycle', 'messagesfrom', 'WWW', 'browser', \"'re\", 'running.Java', 'Program', 'ExecutionThe', 'Java', 'byte-code', 'compiler', 'translates', 'Java', 'source', 'file', 'machine-independent', 'byte', 'code', 'The', 'byte', 'code', 'publicly', 'visible', 'class', 'placed', 'aseparate', 'file', 'Java', 'runtime', 'system', 'easily', 'find', 'If', 'programinstantiates', 'object', 'class', 'A', 'example', 'class', 'loader', 'searches', 'thedirectories', 'listed', 'CLASSPATH', 'environment', 'variable', 'file', 'called', 'A.classthat', 'contains', 'class', 'definition', 'byte', 'code', 'class', 'A.There', 'link', 'phase', 'Java', 'programs', 'linking', 'done', 'dynamically', 'atJava', 'BasicsJava', 'Basics', '-4©', '1996-2003', 'jGuru.com', 'All', 'Rights', 'Reserved.runtime.The', 'following', 'diagram', 'shows', 'example', 'Java', 'compilation', 'executionsequence', 'source', 'file', 'named', 'A.java', 'containing', 'public', 'class', 'A', 'non-publicclass', 'B', 'Java', 'programs', 'effect', 'distributed', 'applications', 'You', 'may', 'think', 'acollection', 'DLLs', 'dynamically', 'loadable', 'libraries', 'linked', 'demand', 'atruntime', 'When', 'write', 'Java', 'applications', 'often', 'integrateyour', 'program', 'already-existing', 'portions', 'code', 'reside', 'othermachines.A', 'Simple', 'ApplicationConsider', 'following', 'trivial', 'application', 'prints', 'hi', 'standardoutput', 'Java', 'Basics©', '1996-2003', 'jGuru.com', 'All', 'Rights', 'Reserved.Java', 'Basics', '-5public', 'class', 'TrivialApplication', 'args', '0', 'first', 'argument', 'args', '1', 'second', 'public', 'static', 'void', 'main', 'String', 'args', 'System.out.println', 'hi', 'The', 'command', 'java', 'TrivialApplication', 'tells', 'Java', 'runtime', 'system', 'beginwith', 'class', 'file', 'TrivialApplication.class', 'look', 'file', 'amethod', 'signature', 'public', 'static', 'void', 'main', 'String', 'args', 'The', 'main', 'method', 'always', 'reside', 'one', 'class', 'files', 'The', 'Javalanguage', 'allow', 'methods', 'outside', 'class', 'definitions', 'The', 'class', 'effect', 'creates', 'scoped', 'symbol', 'StartingClassName.main', 'main', 'method.Applet', 'ExecutionAn', 'applet', 'Java', 'program', 'runs', 'within', 'Java-compatible', 'WWW', 'browser', 'orin', 'appletviewer', 'To', 'execute', 'applet', 'browser', 'Creates', 'instance', 'applet', 'Sends', 'messages', 'applet', 'automatically', 'invoke', 'predefined', 'lifecyclemethodsThe', 'predefined', 'methods', 'automatically', 'invoked', 'runtime', 'system', 'init', 'This', 'method', 'takes', 'place', 'Applet', 'constructor', 'calledonce', 'applet', 'creation', 'Instance', 'variables', 'initialized', 'method.GUI', 'components', 'buttons', 'scrollbars', 'added', 'GUI', 'inthis', 'method.', 'start', 'This', 'method', 'called', 'init', 'whenever', 'applet', 'isrevisited', 'browser', 'deiconify', 'browser', 'This', 'methodshould', 'used', 'start', 'animations', 'threads.', 'paint', 'Graphics', 'g', 'This', 'method', 'called', 'applet', 'drawing', 'area', 'needsto', 'redrawn', 'Anything', 'drawn', 'contained', 'components', 'must', 'drawn', 'inthis', 'method', 'Bitmaps', 'example', 'drawn', 'buttons', 'becausethey', 'handle', 'painting.', 'stop', 'This', 'method', 'called', 'leave', 'applet', 'iconifyyour', 'browser', 'The', 'method', 'used', 'suspend', 'animations', 'otherJava', 'BasicsJava', 'Basics', '-6©', '1996-2003', 'jGuru.com', 'All', 'Rights', 'Reserved.threads', 'burden', 'system', 'resources', 'unnecessarily', 'It', 'guaranteed', 'tobe', 'called', 'destroy', 'destroy', 'This', 'method', 'called', 'applet', 'terminates', 'example', 'whenquitting', 'browser', 'Final', 'clean-up', 'operations', 'freeing', 'systemresources', 'dispose', 'done', 'The', 'dispose', 'method', 'Frameremoves', 'menu', 'bar', 'Therefore', 'forget', 'call', 'super.dispose', 'youoverride', 'default', 'behavior.The', 'basic', 'structure', 'applet', 'uses', 'predefined', 'methods', 'import', 'java.applet.Applet', 'include', 'AWT', 'class', 'definitionsimport', 'java.awt', 'public', 'class', 'AppletTemplate', 'extends', 'Applet', 'public', 'void', 'init', 'create', 'GUI', 'initialize', 'applet', 'public', 'void', 'start', 'start', 'threads', 'animations', 'etc', 'public', 'void', 'paint', 'Graphics', 'g', 'draw', 'things', 'g', 'public', 'void', 'stop', 'suspend', 'threads', 'stop', 'animations', 'etc', 'public', 'void', 'destroy', 'free', 'system', 'resources', 'stop', 'threads', 'All', 'fill', 'appropriate', 'methods', 'bring', 'applet', 'life', 'Ifyou', \"n't\", 'need', 'use', 'one', 'predefined', 'methods', 'simply', 'leave', 'themout', 'applet', 'The', 'applet', 'ignore', 'messages', 'browser', 'attemptingto', 'invoke', 'methods', \"n't\", 'use.A', 'Simple', 'AppletThe', 'following', 'complete', 'applet', 'displays', 'Hello', 'World', 'Wide', 'Web', 'yourbrowser', 'window', 'import', 'java.applet.Applet', 'import', 'java.awt.Graphics', 'public', 'class', 'TrivialApplet', 'extends', 'Applet', 'public', 'void', 'paint', 'Graphics', 'g', 'display', 'string', '20,20Java', 'Basics©', '1996-2003', 'jGuru.com', 'All', 'Rights', 'Reserved.Java', 'Basics', '-7', '0,0', 'upper-left', 'corner', 'g.drawString', 'Hello', 'World', 'Wide', 'Web', '20', '20', 'An', 'appletviewer', 'may', 'used', 'instead', 'WWW', 'browser', 'test', 'applets', 'Forexample', 'output', 'TrivialApplet', 'appletviewer', 'looks', 'like', 'HTML/Applet', 'InterfaceThe', 'HTML', 'applet', 'tag', 'similar', 'HTML', 'img', 'tag', 'form', 'applet', 'code=AppletName.class', 'width=w', 'height=h', 'parameters', '/applet', 'optional', 'parameters', 'list', 'parameter', 'definitions', 'form', 'param', 'name=n', 'value=v', 'An', 'example', 'tag', 'parameter', 'definitions', 'applet', 'code=AppletName.class', 'width=300', 'height=200', 'param', 'name=p1', 'value=34', 'param', 'name=p2', 'value=', 'test', '/applet', 'p1', 'p2', 'user-defined', 'parameters.The', 'code', 'width', 'height', 'parameters', 'mandatory', 'The', 'parameterscodebase', 'alt', 'archives', 'align', 'vspace', 'hspace', 'optional', 'within', 'applet', 'tag', 'Your', 'applet', 'access', 'parameters', 'calling', 'Applet.getParameter', 'p', 'returns', 'String', 'value', 'parameter', 'For', 'example', 'applet', 'import', 'java.applet.Applet', 'public', 'class', 'ParamTest', 'extends', 'Applet', 'public', 'void', 'init', 'System.out.println', 'width', 'getParameter', 'width', 'System.out.println', 'p1', 'getParameter', 'p1', 'Java', 'BasicsJava', 'Basics', '-8©', '1996-2003', 'jGuru.com', 'All', 'Rights', 'Reserved', 'System.out.println', 'p2', 'getParameter', 'p2', 'prints', 'following', 'standard', 'output', 'width', '300p1', '34p2', 'testCommentsJava', 'comments', 'C++', 'comments', 'i.e.', '/*', 'C-style', 'block', 'comments', '*/where', 'text', 'opening', '/*', 'closing', '*/', 'ignored', 'and//', 'C++', 'style', 'single-line', 'commentswhere', 'text', 'opening', 'end', 'line', 'ignored.Note', 'two', 'comments', 'make', 'useful', 'combination', 'C-stylecomments', '/*', '*/', 'nested', 'contain', 'C++', 'style', 'comments.This', 'leads', 'interesting', 'observation', 'always', 'use', 'C++-stylecomments', 'easily', 'comment', 'section', 'code', 'surroundingit', 'C-style', 'comments', 'So', 'try', 'use', 'C++', 'style', 'comments', 'normal', 'code', 'commentary', 'reserve', 'C-style', 'comments', 'commenting', 'sections', 'ofcode.The', 'Java', 'language', 'also', 'document', 'comment', '/**', 'document', 'comment', '*/These', 'comments', 'processed', 'javadoc', 'program', 'generatedocumentation', 'source', 'code', 'For', 'example', '/**', 'This', 'class', 'blah', 'blah', 'blah', '*/class', 'Blah', '/**', 'This', 'method', 'nothing', '/**', 'This', 'multiple', 'line', 'comment', 'The', 'leading', 'placed', 'documentation', '*/', 'public', 'void', 'nothing', 'Java', 'Basics©', '1996-2003', 'jGuru.com', 'All', 'Rights', 'Reserved.Java', 'Basics', '-9DeclarationsA', 'Java', 'variable', 'may', 'refer', 'object', 'array', 'item', 'primitive', 'type.Variables', 'defined', 'using', 'following', 'simple', 'syntax', 'TypeName', 'variableName', 'For', 'example', 'int', 'defines', 'integerint', 'b', 'defines', 'reference', 'array', 'intsVector', 'v', 'reference', 'Vector', 'objectPrimitive', 'TypesThe', 'Java', 'language', 'following', 'primitive', 'types', 'Primitive', 'TypesPrimitive', 'TypeDescriptionbooleantrue/falsebyte8', 'bitschar16', 'bits', 'UNICODE', 'short16', 'bitsint32', 'bitslong64', 'bitsfloat32', 'bits', 'IEEE', '754-1985double64', 'bits', 'IEEE', '754-1985Java', 'int', 'types', 'may', 'used', 'boolean', 'types', 'always', 'signed.ObjectsA', 'simple', 'C++', 'object', 'C', 'struct', 'definition', 'Button', 'b', 'allocatesmemory', 'stack', 'Button', 'object', 'makes', 'b', 'refer', 'By', 'contrast', 'youmust', 'specifically', 'instantiate', 'Java', 'objects', 'new', 'operator', 'For', 'example', 'Java', 'BasicsJava', 'Basics', '-10©', '1996-2003', 'jGuru.com', 'All', 'Rights', 'Reserved.//', 'Java', 'codevoid', 'foo', 'define', 'reference', 'Button', 'init', 'null', 'Button', 'b', 'allocate', 'space', 'Button', 'b', 'points', 'b', 'new', 'Button', 'OK', 'int', '2', 'As', 'accompanying', 'figure', 'shows', 'code', 'places', 'reference', 'b', 'Buttonobject', 'stack', 'allocates', 'memory', 'new', 'object', 'heap.The', 'equivalent', 'C++', 'C', 'statements', 'would', 'allocate', 'memory', 'heapwould', 'C++', 'codeButton', '*b', 'NULL', 'declare', 'new', 'Button', 'pointerb', 'new', 'Button', 'OK', 'point', 'new', 'Button/*', 'C', 'code', '*/Button', '*b', 'NULL', '/*', 'declare', 'new', 'Button', 'pointer', '*/b', 'calloc', '1', 'sizeof', 'Button', '/*', 'allocate', 'space', 'Button', '*/init', 'b', 'OK', '/*', 'something', 'like', 'init', 'b', '*/All', 'Java', 'objects', 'reside', 'heap', 'objects', 'stored', 'stack.Storing', 'objects', 'heap', 'cause', 'potential', 'memory', 'leakage', 'problemsbecause', 'garbage', 'collection.Each', 'Java', 'primitive', 'type', 'equivalent', 'object', 'type', 'e.g.', 'Integer', 'Byte', 'Float', 'Double', 'These', 'primitive', 'types', 'provided', 'addition', 'object', 'typespurely', 'efficiency', 'An', 'int', 'much', 'efficient', 'Integer.Java', 'Basics©', '1996-2003', 'jGuru.com', 'All', 'Rights', 'Reserved.Java', 'Basics', '-11StringsJava', 'string', 'literals', 'look', 'C/C++', 'Java', 'strings', 'realobjects', 'pointers', 'memory', 'Java', 'strings', 'may', 'may', 'null-terminated.Every', 'string', 'literal', 'string', 'literal', 'interpreted', 'Java', 'compiler', 'asnew', 'String', 'string', 'literal', 'Java', 'strings', 'constant', 'length', 'content', 'For', 'variable-length', 'strings', 'useStringBuffer', 'objects.Strings', 'may', 'concatenated', 'using', 'plus', 'operator', 'String', 'one', 'two', 'onetwo', 'You', 'may', 'concatenate', 'object', 'string', 'You', 'use', 'toString', 'method', 'toconvert', 'objects', 'String', 'primitive', 'types', 'converted', 'compiler.For', 'example', 'String', '1+1=', '2', '1+1=2', 'The', 'length', 'string', 'may', 'obtained', 'String', 'method', 'length', 'e.g.', 'abc', '.length', 'value', '3.To', 'convert', 'int', 'String', 'use', 'String', 'String.valueOf', '4', 'To', 'convert', 'String', 'int', 'use', 'int', 'Integer.parseInt', '4', 'Array', 'ObjectsIn', 'C', 'C++', 'arrays', 'pointers', 'data', 'memory', 'Java', 'arrays', 'objects', 'thatknow', 'number', 'type', 'elements', 'The', 'first', 'element', 'index', '0', 'inC/C++.Generic', 'Array', 'Object', 'elementsJava', 'BasicsJava', 'Basics', '-12©', '1996-2003', 'jGuru.com', 'All', 'Rights', 'Reserved.element', 'typeelement', '0element', '1', 'element', 'n-1The', 'syntax', 'creating', 'array', 'object', 'TypeName', 'variableName', 'This', 'declaration', 'defines', 'array', 'object', '--', 'allocate', 'memory', 'arrayobject', 'allocate', 'elements', 'array', 'In', 'addition', 'may', 'notspecify', 'size', 'within', 'square', 'brackets.To', 'allocate', 'array', 'use', 'new', 'operator', 'int', 'new', 'int', '5', 'Java', 'code', 'make', 'array', '5', 'intsnew', 'int', '5', '5int00000In', 'C', 'C++', 'contrast', 'would', 'write', 'either/*', 'C/C++', 'code', 'make', 'array', '5', 'ints', 'stack', '*/int', '5', 'or/*', 'C/C++', 'code', 'make', 'array', '5', 'ints', 'heap', '*/Java', 'Basics©', '1996-2003', 'jGuru.com', 'All', 'Rights', 'Reserved.Java', 'Basics', '-13int', '*a', 'new', 'int', '5', 'An', 'array', 'Java', 'objects', 'as//', 'Java', 'code', 'make', 'array', '5', 'references', 'ButtonsButton', 'new', 'Button', '5', 'creates', 'array', 'object', 'elements', 'new', 'Button', '5', '5Buttonnull', 'pointernull', 'pointernull', 'pointernull', 'pointernull', 'pointerYou', 'must', 'use', 'new', 'operator', 'create', 'elements', '0', 'new', 'Button', 'OK', '3', 'new', 'Button', 'QUIT', 'In', 'C++', 'make', 'array', 'pointers', 'objects', 'would', 'write', 'C++', 'make', 'array', '5', 'pointers', 'ButtonsButton', '**a', 'new', 'Button', '5', 'Create', 'arraya', '0', 'new', 'Button', 'OK', 'create', 'two', 'new', 'buttonsa', '3', 'new', 'Button', 'QUIT', 'In', 'C', 'code', 'task', 'would', 'look', 'like', '/*', 'C', 'make', 'array', '5', 'pointers', 'structs', '*//*', 'Allocate', 'array', '*/Button', '**a', 'calloc', '5', 'sizeof', 'Button', '/*', 'Allocate', 'one', 'button', '*/a', '0', 'calloc', '1', 'sizeof', 'Button', '/*', 'Init', 'first', 'button', '*/setTitle', '0', 'OK', '/*', 'Allocate', 'another', 'button', '*/a', '3', 'calloc', '1', 'sizeof', 'Button', '/*', 'Init', 'second', 'button', '*/Java', 'BasicsJava', 'Basics', '-14©', '1996-2003', 'jGuru.com', 'All', 'Rights', 'Reserved.setTitle', '3', 'QUIT', 'Multi-dimensional', 'Java', 'arrays', 'created', 'making', 'arrays', 'arrays', 'inC/C++', 'For', 'example', 'T', 'new', 'T', '10', '5', 'makes', 'five-element', 'array', 'ten', 'arrays', 'references', 'objects', 'type', 'T.', 'Thisstatement', 'allocate', 'memory', 'T', 'objects.Accessing', 'undefined', 'array', 'element', 'causes', 'runtime', 'exception', 'calledArrayIndexOutOfBoundsException.Accessing', 'defined', 'array', 'element', 'yet', 'assigned', 'objectresults', 'runtime', 'NullPointerException.InitializersVariables', 'may', 'initialized', 'follows', 'Primitive', 'typesint', '3', 'boolean', 'g', 'true', 'ObjectsButton', 'b', 'null', 'Employee', 'e', 'new', 'Employee', 'Arraysint', '1', '2', '3', '4', 'Java', '1.1int', 'new', 'int', '1', '2', '3', '4', 'ConstantsVariables', 'modified', 'static', 'final', 'keywords', 'constants', 'equivalent', 'tothe', 'const', 'keyword', 'C++', 'equivalent', 'C', 'For', 'example', 'const', 'int', 'version=1', 'C++static', 'final', 'int', 'version', '1', 'static', 'final', 'String', 'Owner', 'Terence', 'Java', 'Basics©', '1996-2003', 'jGuru.com', 'All', 'Rights', 'Reserved.Java', 'Basics', '-15ExpressionsMost', 'Java', 'expressions', 'similar', 'C/C++.Constant', 'ExpressionsItemExamples', 'Descriptionidi', 'nameListqualified-idInteger.MAX_VALUE', 'obj.member', 'npackage.class', 'package.objid', 'e', 'f', 'g', 'b', '3', '4', 'String', 'literal', 'Jim', 'delimited', 'char', \"literal'a\", \"'\", \"'\\\\t\", \"'\", 'delimited', 'Unicode', 'character', 'constant\\\\u00aeboolean', 'literaltrue', 'false', 'int', 'int', 'constant4float', 'constant3.14f', '2.7e6F', 'f', 'F', 'suffixdouble', 'constant3.14', '2.7e6D', 'default', '/', 'D', 'suffixhexadecimal', 'constant0x123octal', 'constant077nullthe', 'null', 'object', 'note', 'lowercase', 'thisthe', 'current', 'objectsuperthe', 'superclass', 'view', 'objectGeneral', 'ExpressionsItemExamples', 'DescriptionJava', 'BasicsJava', 'Basics', '-16©', '1996-2003', 'jGuru.com', 'All', 'Rights', 'Reserved.idi', 'nameListobj.method', 'args', 'instance', 'method', 'callclass.method', 'args', 'class', 'method', 'call', 'expr', '3+4', '*7new', 'T', 'constructor-args', 'instantiates', 'new', 'object', 'class', 'Tnew', 'T', 'e', 'f', 'g', 'allocates', 'array', 'objectOperatorsThe', 'Java', 'language', 'added', 'zero-extend', 'right-shift', 'operator', 'set', 'ofC++', 'operators', 'C++', 'operators', 'include', 'instanceof', 'new', 'notpresent', 'C.', 'Note', 'sizeof', 'removed', 'memory', 'allocation', 'ishandled', 'The', 'operators', 'order', 'highest', 'lowest', 'priority', 'new', '--', '++', '-', '~', 'TypeName', '/', '-', 'instanceof', '|', '||', '?', '*=', '/=', '+=', '-=', '^=', '|=Note', 'precedence', 'new', 'operator', \"'\", \"'\", 'operator', 'bindJava', 'Basics©', '1996-2003', 'jGuru.com', 'All', 'Rights', 'Reserved.Java', 'Basics', '-17differently', 'C++', 'A', 'proper', 'Java', 'statement', 'Java', 'codenew', 'T', '.method', 'In', 'C++', 'would', 'use', 'C++', 'code', 'new', 'T', '-', 'method', 'StatementsJava', 'statements', 'similar', 'C/C++', 'following', 'table', 'shows.Forms', 'Common', 'StatementsStatementExamplesifif', 'boolean-expr', 'stat1if', 'boolean-expr', 'stat1', 'else', 'stat2switchswitch', 'int-expr', 'case', 'int-const-expr', 'stat1case', 'int-const-expr', 'stat2default', 'stat3', 'forfor', 'int', 'i=0', '10', 'i++', 'statwhilewhile', 'boolean-expr', 'statdo-whiledo', 'stats', 'boolean-expr', 'returnreturn', 'expr', 'The', 'Java', 'break', 'continue', 'statements', 'may', 'labels', 'These', 'labels', 'refer', 'tothe', 'specific', 'loop', 'break', 'continue', 'apply', 'Each', 'loop', 'bepreceded', 'label', 'Java', 'SemanticsWe', 'say', 'Java', 'language', 'reference', 'semantics', 'C/C++', 'copysemantics', 'This', 'means', 'Java', 'objects', 'passed', 'methods', 'reference', 'inJava', 'objects', 'passed', 'value', 'C/C++.Java', 'primitive', 'types', 'however', 'treated', 'way', 'Java', 'objects.Primitive', 'types', 'assigned', 'compared', 'passed', 'arguments', 'using', 'copyJava', 'BasicsJava', 'Basics', '-18©', '1996-2003', 'jGuru.com', 'All', 'Rights', 'Reserved.semantics', 'C/C++', 'For', 'example', 'j', 'two', 'int', 'variables', 'jperforms', '32-bit', 'integer', 'copy.Assignment', 'ObjectsAssignment', 'makes', 'two', 'variables', 'refer', 'object', 'For', 'example', 'class', 'Data', 'public', 'int', 'data', '0', 'public', 'Data', 'int', 'data', 'I', 'Data', 'new', 'Data', '1', 'a.data', '1I', 'Data', 'b', 'new', 'Data', '2', 'b.data', '2II', 'b', 'b.data', 'a.data', '1III', 'a.data', '3', 'b.data', 'a.data', '3IV', 'new', 'Data', '4', 'b.data', '3', 'a.data', '4To', 'copy', 'objects', 'define', 'use', 'clone', 'class', 'Data', 'implements', 'Cloneable', 'public', 'int', 'data', '0', 'public', 'Data', 'int', 'data', 'public', 'Object', 'clone', 'Data', 'Data', 'super.clone', 'd.data', 'data', 'return', 'Data', 'new', 'Data', '1', 'a.data', '1Data', 'b', 'new', 'Data', '2', 'b.data', '2b', 'a.clone', 'b.data', 'a.data', '1a.data', '3', 'b.data', '1', 'a.data', '3Java', 'Basics©', '1996-2003', 'jGuru.com', 'All', 'Rights', 'Reserved.Java', 'Basics', '-19Note', 'The', 'class', 'definition', 'requires', 'exception', 'handling', 'code', 'We', 'however', 'yet', 'discussed', 'exception', 'handling', 'For', 'pretend', 'notnecessary.Method', 'Parameters', 'Return', 'ValuesArguments', 'return', 'values', 'primitive', 'types', 'passed', 'value', 'fromall', 'Java', 'methods', 'implied', 'assignments', 'C/C++', 'However', 'allJava', 'objects', 'passed', 'reference', 'For', 'example', 'C/C++', 'code', 'C++', 'codeint', 'foo', 'int', 'j', 'return', 'j', '34', 'Button', '*bfoo', 'Button', '*b', 'b', 'NULL', 'return', 'b', 'else', 'return', 'new', 'Button', 'C/*', 'C', 'code', '*/int', 'foo', 'int', 'j', 'return', 'j', '34', 'Button', '*bfoo', 'Button', '*b', 'b', 'NULL', 'return', 'b', 'else', 'return', 'calloc', 'sizeof', 'Button', 'would', 'written', 'Java', 'language', 'Java', 'codeint', 'foo', 'int', 'j', 'return', 'j', '34', 'Button', 'bfoo', 'Button', 'b', 'b', 'null', 'return', 'b', 'else', 'return', 'new', 'Button', 'OK', 'EqualityTwo', 'Java', 'primitive', 'types', 'equal', 'using', 'operator', 'thesame', 'value', 'e.g.', '3', '3', 'However', 'two', 'object', 'variables', 'equal', 'ifthey', 'refer', 'instantiated', 'object', '--', 'shallow', 'comparison', 'For', 'example', 'void', 'test', 'Data', 'new', 'Data', '1', 'Data', 'b', 'new', 'Data', '2', 'Data', 'c', 'new', 'Data', '1', 'b', 'FALSE', 'c', 'FALSE', 'C++', \"'d\", 'TRUE', 'Java', 'BasicsJava', 'Basics', '-20©', '1996-2003', 'jGuru.com', 'All', 'Rights', 'Reserved', 'Data', 'Data', 'e', 'e', 'TRUE', 'e', 'referring', 'object', 'To', 'perform', 'deep', 'comparison', 'convention', 'define', 'method', 'calledequals', 'You', 'would', 'rewrite', 'Data', 'class', 'Data', 'public', 'int', 'data', '0', 'public', 'Data', 'int', 'data', 'boolean', 'equals', 'Data', 'return', 'data', 'd.data', 'Data', 'new', 'Data', '1', 'Data', 'b', 'new', 'Data', '1', 'a.equals', 'b', 'true', 'No', 'Pointers', 'The', 'Java', 'language', 'pointer', 'types', 'address', 'arithmetic', 'Javavariables', 'either', 'primitive', 'types', 'references', 'objects', 'To', 'illustrate', 'thedifference', 'C/C++', 'Java', 'semantics', 'consider', 'following', 'equivalentcode', 'fragments.//', 'C++', 'code', 'C', 'code', 'would', 'similar', 'Stack', '*s', 'new', 'Stack', 'point', 'new', 'Stacks-', 'push', 'dereference', 'access', 'method', 'push', 'The', 'equivalent', 'Java', 'code', 'Java', 'code//', 'internally', 'consider', 'Stack', 'Stack', 'new', 'Stack', 'dereference', 'automaticallys.push', 'Garbage', 'CollectionAn', 'automatic', 'garbage', 'collector', 'deallocates', 'memory', 'objects', 'longerneeded', 'program', 'thereby', 'relieving', 'tedious', 'error-proneJava', 'Basics©', '1996-2003', 'jGuru.com', 'All', 'Rights', 'Reserved.Java', 'Basics', '-21task', 'deallocating', 'memory.As', 'consequence', 'automatic', 'garbage', 'collection', 'lack', 'pointers', 'Javaobject', 'either', 'null', 'valid', '--', 'way', 'refer', 'invalid', 'stale', 'object', 'one', 'deallocated', '.To', 'illustrate', 'effect', 'garbage', 'collector', 'consider', 'following', 'C++', 'functionthat', 'allocates', '1000', 'objects', 'heap', 'via', 'new', 'operator', 'similar', 'C', 'functionwould', 'allocate', 'memory', 'using', 'calloc/malloc', 'C++', 'codevoid', 'f', 'T', '*t', 'int', '1', '1000', 'i++', 'new', 'T', 'ack', 'Every', 'time', 'loop', 'body', 'executed', 'new', 'instance', 'class', 'T', 'instantiated', 'andt', 'pointed', 'But', 'happens', 'instance', 'used', 'point', '?', \"It'sstill\", 'allocated', 'nothing', 'points', 'therefore', \"'s\", 'inaccessible', 'Memory', 'inthis', 'state', 'referred', 'leaked', 'memory.In', 'Java', 'language', 'memory', 'leaks', 'issue', 'The', 'following', 'Java', 'methodcauses', 'ill', 'effects', 'Java', 'codevoid', 'f', 'T', 'int', '1', '1000', 'i++', 'new', 'T', 'In', 'Java', 'time', 'assigned', 'new', 'reference', 'old', 'reference', 'availablefor', 'garbage', 'collection', 'Note', \"n't\", 'immediately', 'freed', 'remains', 'allocateduntil', 'garbage', 'collector', 'thread', 'next', 'executed', 'notices', 'freed.Put', 'simply', 'automatic', 'garbage', 'collection', 'reduces', 'programming', 'effort', 'programming', 'errors', 'program', 'complexity', 'MML', '0.995a', 'Version', 'Id', '//depot/main/src/edu/modules/JavaBasics/javaBasics.mml', '3', 'Java', 'BasicsJava', 'Basics', '-22©', '1996-2003', 'jGuru.com', 'All', 'Rights', 'Reserved.Java', 'Basics©', '1996-2003', 'jGuru.com', 'All', 'Rights', 'Reserved.Java', 'Basics', '-23This', 'page', 'intentionally', 'left', 'blank']\n"
     ]
    }
   ],
   "source": [
    "print(keywords)"
   ]
  },
  {
   "cell_type": "code",
   "execution_count": 39,
   "metadata": {},
   "outputs": [],
   "source": [
    "freq = pd.Series(' '.join(keywords).split()).value_counts()"
   ]
  },
  {
   "cell_type": "code",
   "execution_count": 40,
   "metadata": {},
   "outputs": [
    {
     "name": "stdout",
     "output_type": "stream",
     "text": [
      "Java                 70\n",
      "new                  47\n",
      "Data                 30\n",
      "Button               30\n",
      "int                  29\n",
      "The                  29\n",
      "code                 27\n",
      "class                26\n",
      "b                    25\n",
      "All                  24\n",
      "Rights               23\n",
      "jGuru.com            23\n",
      "Basics               23\n",
      "1996-2003            23\n",
      "applet               22\n",
      "public               21\n",
      "C++                  21\n",
      "array                20\n",
      "method               19\n",
      "object               18\n",
      "example              18\n",
      "1                    17\n",
      "objects              17\n",
      "5                    15\n",
      "3                    14\n",
      "String               14\n",
      "use                  13\n",
      "Reserved.Java        13\n",
      "language             13\n",
      "Basics©              12\n",
      "                     ..\n",
      "appropriate           1\n",
      "square                1\n",
      "Integer.parseInt      1\n",
      "realobjects           1\n",
      "Double                1\n",
      "-16©                  1\n",
      "inC/C++.Generic       1\n",
      "view                  1\n",
      "standardoutput        1\n",
      "whenquitting          1\n",
      "efficient             1\n",
      "calloc/malloc         1\n",
      "*=                    1\n",
      "page                  1\n",
      "code//                1\n",
      "valid                 1\n",
      "F                     1\n",
      "function              1\n",
      "super.clone           1\n",
      "tosubclass            1\n",
      "threads.              1\n",
      "suffixdouble          1\n",
      "stack.Storing         1\n",
      "Standalone            1\n",
      "Reserved.idi          1\n",
      "precedence            1\n",
      "java.awt.Graphics     1\n",
      "pretend               1\n",
      "burden                1\n",
      "Integer               1\n",
      "Length: 1101, dtype: int64\n"
     ]
    }
   ],
   "source": [
    "print(freq)"
   ]
  },
  {
   "cell_type": "code",
   "execution_count": null,
   "metadata": {
    "collapsed": true
   },
   "outputs": [],
   "source": []
  },
  {
   "cell_type": "code",
   "execution_count": null,
   "metadata": {
    "collapsed": true
   },
   "outputs": [],
   "source": []
  },
  {
   "cell_type": "code",
   "execution_count": null,
   "metadata": {
    "collapsed": true
   },
   "outputs": [],
   "source": []
  },
  {
   "cell_type": "code",
   "execution_count": null,
   "metadata": {
    "collapsed": true
   },
   "outputs": [],
   "source": []
  },
  {
   "cell_type": "code",
   "execution_count": 18,
   "metadata": {},
   "outputs": [
    {
     "ename": "SyntaxError",
     "evalue": "invalid syntax (<ipython-input-18-fb1ca2bf5099>, line 1)",
     "output_type": "error",
     "traceback": [
      "\u001b[1;36m  File \u001b[1;32m\"<ipython-input-18-fb1ca2bf5099>\"\u001b[1;36m, line \u001b[1;32m1\u001b[0m\n\u001b[1;33m    else:\u001b[0m\n\u001b[1;37m       ^\u001b[0m\n\u001b[1;31mSyntaxError\u001b[0m\u001b[1;31m:\u001b[0m invalid syntax\n"
     ]
    }
   ],
   "source": []
  },
  {
   "cell_type": "code",
   "execution_count": null,
   "metadata": {
    "collapsed": true
   },
   "outputs": [],
   "source": []
  },
  {
   "cell_type": "code",
   "execution_count": null,
   "metadata": {
    "collapsed": true
   },
   "outputs": [],
   "source": []
  },
  {
   "cell_type": "code",
   "execution_count": null,
   "metadata": {
    "collapsed": true
   },
   "outputs": [],
   "source": []
  },
  {
   "cell_type": "code",
   "execution_count": null,
   "metadata": {
    "collapsed": true
   },
   "outputs": [],
   "source": []
  },
  {
   "cell_type": "code",
   "execution_count": null,
   "metadata": {
    "collapsed": true
   },
   "outputs": [],
   "source": []
  },
  {
   "cell_type": "code",
   "execution_count": null,
   "metadata": {
    "collapsed": true
   },
   "outputs": [],
   "source": []
  },
  {
   "cell_type": "code",
   "execution_count": 6,
   "metadata": {},
   "outputs": [
    {
     "ename": "NameError",
     "evalue": "name 'pdfreader' is not defined",
     "output_type": "error",
     "traceback": [
      "\u001b[1;31m---------------------------------------------------------------------------\u001b[0m",
      "\u001b[1;31mNameError\u001b[0m                                 Traceback (most recent call last)",
      "\u001b[1;32m<ipython-input-6-bf641d8b7a2b>\u001b[0m in \u001b[0;36m<module>\u001b[1;34m()\u001b[0m\n\u001b[1;32m----> 1\u001b[1;33m \u001b[0mprint\u001b[0m\u001b[1;33m(\u001b[0m\u001b[0mpdfreader\u001b[0m\u001b[1;33m.\u001b[0m\u001b[0mnumpages\u001b[0m\u001b[1;33m)\u001b[0m\u001b[1;33m\u001b[0m\u001b[0m\n\u001b[0m",
      "\u001b[1;31mNameError\u001b[0m: name 'pdfreader' is not defined"
     ]
    }
   ],
   "source": []
  },
  {
   "cell_type": "code",
   "execution_count": null,
   "metadata": {
    "collapsed": true
   },
   "outputs": [],
   "source": []
  }
 ],
 "metadata": {
  "kernelspec": {
   "display_name": "Python 3",
   "language": "python",
   "name": "python3"
  },
  "language_info": {
   "codemirror_mode": {
    "name": "ipython",
    "version": 3
   },
   "file_extension": ".py",
   "mimetype": "text/x-python",
   "name": "python",
   "nbconvert_exporter": "python",
   "pygments_lexer": "ipython3",
   "version": "3.6.5"
  }
 },
 "nbformat": 4,
 "nbformat_minor": 2
}
